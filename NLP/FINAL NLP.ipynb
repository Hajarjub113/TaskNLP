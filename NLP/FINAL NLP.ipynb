{
 "cells": [
  {
   "cell_type": "code",
   "execution_count": 1,
   "id": "9648966c",
   "metadata": {},
   "outputs": [],
   "source": [
    "import PySimpleGUI as sg\n",
    "from tkinter import messagebox\n",
    "from tkinter.filedialog import askopenfile\n",
    "import os\n",
    "import mysql.connector\n",
    "import speech_recognition as sr"
   ]
  },
  {
   "cell_type": "code",
   "execution_count": 2,
   "id": "eeb27e08",
   "metadata": {},
   "outputs": [
    {
     "data": {
      "text/plain": [
       "'DarkBlue7'"
      ]
     },
     "execution_count": 2,
     "metadata": {},
     "output_type": "execute_result"
    }
   ],
   "source": [
    "sg.theme('DarkBlue7')"
   ]
  },
  {
   "cell_type": "code",
   "execution_count": 3,
   "id": "a96e06a5",
   "metadata": {},
   "outputs": [],
   "source": [
    "file_types = [(\"WAV Files\", \"*.wav\"), (\"All Files\", \"*.*\")]\n",
    "layout = [[sg.Text(\"Audio File\"),\n",
    "            sg.Input(size=(25, 1), key=\"-FILE-\"),\n",
    "            sg.FileBrowse(file_types=file_types),\n",
    "            sg.Button(\"Load\")]]"
   ]
  },
  {
   "cell_type": "code",
   "execution_count": 4,
   "id": "7e65e694",
   "metadata": {},
   "outputs": [],
   "source": [
    "window = sg.Window(\"Audio Convert to Text\", layout)"
   ]
  },
  {
   "cell_type": "code",
   "execution_count": 5,
   "id": "68a7830c",
   "metadata": {},
   "outputs": [],
   "source": [
    "import speech_recognition as sr\n",
    "\n",
    "def convert_audio_to_text(audio_file):\n",
    "    recognizer = sr.Recognizer()\n",
    "\n",
    "    # Load the audio file\n",
    "    with sr.AudioFile(audio_file) as source:\n",
    "        audio = recognizer.record(source)\n",
    "\n",
    "    try:\n",
    "        # Use Google Speech Recognition to convert audio to text\n",
    "        text = recognizer.recognize_google(audio)\n",
    "        return text\n",
    "    except sr.UnknownValueError:\n",
    "        print(\"Speech recognition could not understand audio\")\n",
    "    except sr.RequestError as e:\n",
    "        print(f\"Could not request results from Google Speech Recognition service; {e}\")"
   ]
  },
  {
   "cell_type": "code",
   "execution_count": 6,
   "id": "eb46d729",
   "metadata": {},
   "outputs": [
    {
     "name": "stdout",
     "output_type": "stream",
     "text": [
      "she has a dark suit in Greasy washer all\n",
      "MyCursor1\n",
      "1\n",
      "MyCursor3\n",
      "end step\n"
     ]
    }
   ],
   "source": [
    "while True:\n",
    "    mydb = mysql.connector.connect(host = \"localhost\",\n",
    "                                   port = \"3306\",\n",
    "                                   user = \"root\",\n",
    "                                   password = \"\",\n",
    "                                   database = \"web_db\")\n",
    "    \n",
    "    try: \n",
    "        event, values = window.read()\n",
    "        if event == \"Exit\" or event == sg.WIN_CLOSED:\n",
    "            break\n",
    "        if event == \"Load\":\n",
    "            filename = values[\"-FILE-\"]\n",
    "\n",
    "            if filename:\n",
    "                # Convert audio to text\n",
    "                text = convert_audio_to_text(filename)\n",
    "\n",
    "                # Print the converted text\n",
    "                print(text)\n",
    "                MyCursor1 = mydb.cursor()\n",
    "                Sql_Query1 = \"SELECT `id` FROM `content`\"\n",
    "                MyCursor1.execute(Sql_Query1)\n",
    "                record1 = MyCursor1.fetchall()\n",
    "                mydb.commit()\n",
    "                MyCursor1.close()\n",
    "                print(\"MyCursor1\")\n",
    "                for row in record1:\n",
    "                    row_id = row[0]\n",
    "                    row_id = str(row_id)\n",
    "                    print(row_id)\n",
    "\n",
    "                MyCursor3 = mydb.cursor()\n",
    "                Sql_Query3 = \"UPDATE `content` SET `value`= '\"+text+\"' WHERE `id`=\"+row_id+\";\"   \n",
    "                MyCursor3.execute(Sql_Query3)\n",
    "                mydb.commit()\n",
    "                MyCursor3.close()\n",
    "                print(\"MyCursor3\")\n",
    "\n",
    "\n",
    "            mydb.close()\n",
    "            print(\"end step\")\n",
    "    except Exception as e:\n",
    "        print(e)\n",
    "        \n",
    "window.close()"
   ]
  },
  {
   "cell_type": "code",
   "execution_count": null,
   "id": "6c8a9043",
   "metadata": {},
   "outputs": [],
   "source": []
  }
 ],
 "metadata": {
  "kernelspec": {
   "display_name": "Python 3 (ipykernel)",
   "language": "python",
   "name": "python3"
  },
  "language_info": {
   "codemirror_mode": {
    "name": "ipython",
    "version": 3
   },
   "file_extension": ".py",
   "mimetype": "text/x-python",
   "name": "python",
   "nbconvert_exporter": "python",
   "pygments_lexer": "ipython3",
   "version": "3.10.9"
  }
 },
 "nbformat": 4,
 "nbformat_minor": 5
}
